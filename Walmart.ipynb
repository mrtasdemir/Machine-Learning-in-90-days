{
  "nbformat": 4,
  "nbformat_minor": 0,
  "metadata": {
    "colab": {
      "provenance": [],
      "authorship_tag": "ABX9TyNs93cO715R6ACoqw0kXRu+",
      "include_colab_link": true
    },
    "kernelspec": {
      "name": "python3",
      "display_name": "Python 3"
    },
    "language_info": {
      "name": "python"
    }
  },
  "cells": [
    {
      "cell_type": "markdown",
      "metadata": {
        "id": "view-in-github",
        "colab_type": "text"
      },
      "source": [
        "<a href=\"https://colab.research.google.com/github/mrtasdemir/Machine-Learning-in-90-days/blob/master/Walmart.ipynb\" target=\"_parent\"><img src=\"https://colab.research.google.com/assets/colab-badge.svg\" alt=\"Open In Colab\"/></a>"
      ]
    },
    {
      "cell_type": "code",
      "execution_count": 3,
      "metadata": {
        "id": "QNXyZ_mTDQ8n"
      },
      "outputs": [],
      "source": [
        "import pandas as pd\n",
        "import numpy as np\n",
        "import warnings\n",
        "warnings.filterwarnings(\"ignore\")"
      ]
    },
    {
      "cell_type": "code",
      "source": [
        "df = pd.read_csv('ItemReport_10000018420_2024-03-22T142949.853000.csv')\n",
        "\n",
        "df.shape\n"
      ],
      "metadata": {
        "colab": {
          "base_uri": "https://localhost:8080/"
        },
        "id": "gKIOAideDWW3",
        "outputId": "1f02e714-5bb0-4209-e476-fd1cf09faff7"
      },
      "execution_count": 4,
      "outputs": [
        {
          "output_type": "execute_result",
          "data": {
            "text/plain": [
              "(1044, 53)"
            ]
          },
          "metadata": {},
          "execution_count": 4
        }
      ]
    },
    {
      "cell_type": "code",
      "source": [
        "df.columns"
      ],
      "metadata": {
        "colab": {
          "base_uri": "https://localhost:8080/"
        },
        "id": "INrX06kGH1mm",
        "outputId": "d543fc72-a923-4ba6-89b8-7c47b0afe803"
      },
      "execution_count": 5,
      "outputs": [
        {
          "output_type": "execute_result",
          "data": {
            "text/plain": [
              "Index(['SKU', 'Item ID', 'Product Name', 'Lifecycle Status', 'Publish Status',\n",
              "       'Status Change Reason', 'Product Category', 'Price', 'Currency',\n",
              "       'Price Type', 'Promo Start Date', 'Promo End Date', 'Comparison Price',\n",
              "       'Comparison Price Type', 'Buy Box Item Price', 'Buy Box Shipping Price',\n",
              "       'Buy Box Eligible', 'MSRP', 'Product Tax Code', 'Ship Methods',\n",
              "       'Shipping Weight', 'Shipping Weight Unit', 'Fulfillment Lag Time',\n",
              "       'Fulfillment Type', 'WFS Sales Restriction', 'WPID', 'GTIN', 'UPC',\n",
              "       'Item Page URL', 'Primary Image URL', 'Shelf Name',\n",
              "       'Primary Category Path', 'Brand', 'Offer Start Date', 'Offer End Date',\n",
              "       'Item Creation Date', 'Item Last Updated', 'Reviews Count',\n",
              "       'Average Rating', 'Searchable?', 'Variant Group Id', 'Primary Variant?',\n",
              "       'Variant Grouping Attributes', 'Variant Grouping Values',\n",
              "       'Competitor URL', 'Competitor Price', 'Competitor Ship Price',\n",
              "       'Competitor Last Date Fetched', 'Repricer Strategy',\n",
              "       'Minimum Seller Allowed Price', 'Maximum Seller Allowed Price',\n",
              "       'Repricer Status', 'Product Condition'],\n",
              "      dtype='object')"
            ]
          },
          "metadata": {},
          "execution_count": 5
        }
      ]
    },
    {
      "cell_type": "code",
      "source": [
        "df.isnull().sum()"
      ],
      "metadata": {
        "colab": {
          "base_uri": "https://localhost:8080/"
        },
        "id": "dI6hBbMQWMet",
        "outputId": "2a74dc0b-347f-4415-e262-aac7ff0f89c4"
      },
      "execution_count": 6,
      "outputs": [
        {
          "output_type": "execute_result",
          "data": {
            "text/plain": [
              "SKU                                0\n",
              "Item ID                            0\n",
              "Product Name                       0\n",
              "Lifecycle Status                   0\n",
              "Publish Status                     0\n",
              "Status Change Reason            1044\n",
              "Product Category                   0\n",
              "Price                              1\n",
              "Currency                           1\n",
              "Price Type                         0\n",
              "Promo Start Date                1011\n",
              "Promo End Date                  1011\n",
              "Comparison Price                  17\n",
              "Comparison Price Type             16\n",
              "Buy Box Item Price                 1\n",
              "Buy Box Shipping Price           767\n",
              "Buy Box Eligible                   0\n",
              "MSRP                             366\n",
              "Product Tax Code                   0\n",
              "Ship Methods                       2\n",
              "Shipping Weight                    0\n",
              "Shipping Weight Unit               0\n",
              "Fulfillment Lag Time            1030\n",
              "Fulfillment Type                   0\n",
              "WFS Sales Restriction           1027\n",
              "WPID                               0\n",
              "GTIN                               0\n",
              "UPC                              178\n",
              "Item Page URL                      0\n",
              "Primary Image URL                  0\n",
              "Shelf Name                         0\n",
              "Primary Category Path              0\n",
              "Brand                              4\n",
              "Offer Start Date                   0\n",
              "Offer End Date                     0\n",
              "Item Creation Date                 0\n",
              "Item Last Updated                  0\n",
              "Reviews Count                      0\n",
              "Average Rating                   320\n",
              "Searchable?                        0\n",
              "Variant Group Id                 746\n",
              "Primary Variant?                 746\n",
              "Variant Grouping Attributes      746\n",
              "Variant Grouping Values          746\n",
              "Competitor URL                    84\n",
              "Competitor Price                  84\n",
              "Competitor Ship Price             84\n",
              "Competitor Last Date Fetched      84\n",
              "Repricer Strategy               1044\n",
              "Minimum Seller Allowed Price    1044\n",
              "Maximum Seller Allowed Price    1044\n",
              "Repricer Status                 1044\n",
              "Product Condition                676\n",
              "dtype: int64"
            ]
          },
          "metadata": {},
          "execution_count": 6
        }
      ]
    },
    {
      "cell_type": "code",
      "source": [
        "df_dropped=df.drop(columns=['Status Change Reason','Repricer Strategy',\n",
        "       'Minimum Seller Allowed Price', 'Maximum Seller Allowed Price',\n",
        "       'Repricer Status'])\n",
        "df_dropped.shape"
      ],
      "metadata": {
        "colab": {
          "base_uri": "https://localhost:8080/"
        },
        "outputId": "5aafe36a-bfbf-493f-ea00-11110f472f5f",
        "id": "KcGjpzpjXYzr"
      },
      "execution_count": 7,
      "outputs": [
        {
          "output_type": "execute_result",
          "data": {
            "text/plain": [
              "(1044, 48)"
            ]
          },
          "metadata": {},
          "execution_count": 7
        }
      ]
    },
    {
      "cell_type": "code",
      "source": [],
      "metadata": {
        "id": "5trAa8zvWM-G"
      },
      "execution_count": 7,
      "outputs": []
    },
    {
      "cell_type": "code",
      "source": [],
      "metadata": {
        "id": "mx3DgWAnWNBQ"
      },
      "execution_count": 7,
      "outputs": []
    },
    {
      "cell_type": "code",
      "source": [
        "df1 = pd.read_excel ('/content/PO_Data_100000184202024-03-21-14-11-25-850.xlsx')\n",
        "\n",
        "df1.shape"
      ],
      "metadata": {
        "colab": {
          "base_uri": "https://localhost:8080/"
        },
        "id": "o8iXFws3DxPn",
        "outputId": "9ce69abc-41d1-4bd5-cd55-987a9bc32633"
      },
      "execution_count": 8,
      "outputs": [
        {
          "output_type": "execute_result",
          "data": {
            "text/plain": [
              "(300, 44)"
            ]
          },
          "metadata": {},
          "execution_count": 8
        }
      ]
    },
    {
      "cell_type": "code",
      "source": [
        "df2 = pd.read_excel ('/content/PO_Data_100000184202024-03-21-14-11-43-017.xlsx')\n",
        "df3 = pd.read_excel ('/content/PO_Data_100000184202024-03-21-14-11-47-467.xlsx')\n",
        "df4 = pd.read_excel ('/content/PO_Data_100000184202024-03-21-14-12-02-415.xlsx')\n",
        "df5 = pd.read_excel ('/content/PO_Data_100000184202024-03-21-14-12-05-075.xlsx')\n",
        "df6 = pd.read_excel ('/content/PO_Data_100000184202024-03-21-14-12-27-765.xlsx')\n",
        "df7 = pd.read_excel ('/content/PO_Data_100000184202024-03-21-14-12-45-017.xlsx')\n",
        "df8 = pd.read_excel ('/content/PO_Data_100000184202024-03-21-14-12-47-252.xlsx')\n",
        "df9 = pd.read_excel ('/content/PO_Data_100000184202024-03-21-14-12-49-704.xlsx')\n",
        "df10 = pd.read_excel ('/content/PO_Data_100000184202024-03-21-14-13-11-647.xlsx')\n"
      ],
      "metadata": {
        "id": "NX9gAIouF0AA"
      },
      "execution_count": 9,
      "outputs": []
    },
    {
      "cell_type": "code",
      "source": [
        "print(df1.shape)\n",
        "print(df2.shape)\n",
        "print(df3.shape)\n",
        "print(df4.shape)\n",
        "print(df5.shape)\n",
        "print(df6.shape)\n",
        "print(df7.shape)\n",
        "print(df8.shape)\n",
        "print(df9.shape)\n",
        "print(df10.shape)\n"
      ],
      "metadata": {
        "colab": {
          "base_uri": "https://localhost:8080/"
        },
        "id": "45xQwtT-HIQ3",
        "outputId": "53cc5923-f6ab-4d43-bc64-7c7c2dabe79c"
      },
      "execution_count": 10,
      "outputs": [
        {
          "output_type": "stream",
          "name": "stdout",
          "text": [
            "(300, 44)\n",
            "(1430, 44)\n",
            "(314, 44)\n",
            "(1100, 44)\n",
            "(99, 44)\n",
            "(1676, 44)\n",
            "(1509, 44)\n",
            "(110, 44)\n",
            "(137, 44)\n",
            "(1790, 44)\n"
          ]
        }
      ]
    },
    {
      "cell_type": "code",
      "source": [
        "df1.columns"
      ],
      "metadata": {
        "colab": {
          "base_uri": "https://localhost:8080/"
        },
        "id": "f4tHkYRrHnHJ",
        "outputId": "8e5492ce-80c5-4acd-b5af-0e8b46d47ed1"
      },
      "execution_count": 11,
      "outputs": [
        {
          "output_type": "execute_result",
          "data": {
            "text/plain": [
              "Index(['PO#', 'Order#', 'Order Date', 'Ship By', 'Delivery Date',\n",
              "       'Customer Name', 'Customer Shipping Address', 'Customer Phone Number',\n",
              "       'Ship to Address 1', 'Ship to Address 2', 'City', 'State', 'Zip',\n",
              "       'Segment', 'FLIDs', 'Line#', 'UPC', 'Status', 'Item Description',\n",
              "       'Shipping Method', 'Shipping Tier', 'Shipping SLA',\n",
              "       'Shipping Config Source', 'Qty', 'SKU', 'Condition', 'Item Cost',\n",
              "       'Discount', 'Shipping Cost', 'Tax', 'Carrier', 'Tracking Number',\n",
              "       'Tracking Url', 'Update Status', 'Update Qty', 'Update Carrier',\n",
              "       'Update Tracking Number', 'Update Tracking Url', 'Seller Order NO',\n",
              "       'Fulfillment Entity', 'Replacement Order', 'Original Customer Order Id',\n",
              "       'Customer Intent To Cancel', 'Intent To Cancel Override'],\n",
              "      dtype='object')"
            ]
          },
          "metadata": {},
          "execution_count": 11
        }
      ]
    },
    {
      "cell_type": "code",
      "source": [
        "df_con = pd.concat([df1,df2,df3,df4,df5,df6,df7,df8,df9,df10], axis=0)\n",
        "df_con.shape"
      ],
      "metadata": {
        "colab": {
          "base_uri": "https://localhost:8080/"
        },
        "id": "4PBZLQMBHxFQ",
        "outputId": "aec9b89b-969f-400e-af37-4d47b5ec4e49"
      },
      "execution_count": 12,
      "outputs": [
        {
          "output_type": "execute_result",
          "data": {
            "text/plain": [
              "(8465, 44)"
            ]
          },
          "metadata": {},
          "execution_count": 12
        }
      ]
    },
    {
      "cell_type": "code",
      "source": [
        "df_con.columns"
      ],
      "metadata": {
        "colab": {
          "base_uri": "https://localhost:8080/"
        },
        "id": "OptXnoTRIpeo",
        "outputId": "9d363ccb-498d-49e4-9d67-7efa392e8e55"
      },
      "execution_count": 13,
      "outputs": [
        {
          "output_type": "execute_result",
          "data": {
            "text/plain": [
              "Index(['PO#', 'Order#', 'Order Date', 'Ship By', 'Delivery Date',\n",
              "       'Customer Name', 'Customer Shipping Address', 'Customer Phone Number',\n",
              "       'Ship to Address 1', 'Ship to Address 2', 'City', 'State', 'Zip',\n",
              "       'Segment', 'FLIDs', 'Line#', 'UPC', 'Status', 'Item Description',\n",
              "       'Shipping Method', 'Shipping Tier', 'Shipping SLA',\n",
              "       'Shipping Config Source', 'Qty', 'SKU', 'Condition', 'Item Cost',\n",
              "       'Discount', 'Shipping Cost', 'Tax', 'Carrier', 'Tracking Number',\n",
              "       'Tracking Url', 'Update Status', 'Update Qty', 'Update Carrier',\n",
              "       'Update Tracking Number', 'Update Tracking Url', 'Seller Order NO',\n",
              "       'Fulfillment Entity', 'Replacement Order', 'Original Customer Order Id',\n",
              "       'Customer Intent To Cancel', 'Intent To Cancel Override'],\n",
              "      dtype='object')"
            ]
          },
          "metadata": {},
          "execution_count": 13
        }
      ]
    },
    {
      "cell_type": "code",
      "source": [
        "df_con.head()"
      ],
      "metadata": {
        "colab": {
          "base_uri": "https://localhost:8080/",
          "height": 672
        },
        "id": "Eh0DerqJItLo",
        "outputId": "ca09cdb9-3261-40b3-bb13-16a1d5d9b95b"
      },
      "execution_count": 14,
      "outputs": [
        {
          "output_type": "execute_result",
          "data": {
            "text/plain": [
              "               PO#           Order#  Order Date     Ship By Delivery Date  \\\n",
              "0  108830656837301  200011336950958  2023-10-31  2023-11-01    2023-11-08   \n",
              "1  108830656607327  200011348956033  2023-10-31  2023-11-01    2023-11-08   \n",
              "2  108830554056713  200011522169379  2023-10-31  2023-11-01    2023-11-08   \n",
              "3  108830556560621  200011420702608  2023-10-31  2023-11-01    2023-11-08   \n",
              "4  108830556343378  200011340108900  2023-10-31  2023-11-01    2023-11-08   \n",
              "\n",
              "        Customer Name                          Customer Shipping Address  \\\n",
              "0    Shelley Facchina  Shelley Facchina, 5008 SEAWARD COURT, SOUTHPOR...   \n",
              "1      Jodi Sasadeusz  Jodi Sasadeusz, 4071 Luxor Ln, Roseville, CA 9...   \n",
              "2       Ryan Spallina  Ryan Spallina, 2118 Roosevelt Ave, Berkeley, C...   \n",
              "3       Richard Agnew  Richard Agnew, 113 Prestwick Ct, Salisbury, NC...   \n",
              "4  Robert Billingsley  Robert Billingsley, 11312 Wesley Chapel Rd., R...   \n",
              "\n",
              "   Customer Phone Number        Ship to Address 1 Ship to Address 2  ...  \\\n",
              "0             7034757670       5008 SEAWARD COURT               NaN  ...   \n",
              "1             8585315636            4071 Luxor Ln               NaN  ...   \n",
              "2             5102188880       2118 Roosevelt Ave               NaN  ...   \n",
              "3             4129994953         113 Prestwick Ct               NaN  ...   \n",
              "4             7408493132  11312 Wesley Chapel Rd.               NaN  ...   \n",
              "\n",
              "  Update Qty Update Carrier  Update Tracking Number Update Tracking Url  \\\n",
              "0        NaN            NaN                     NaN                 NaN   \n",
              "1        NaN            NaN                     NaN                 NaN   \n",
              "2        NaN            NaN                     NaN                 NaN   \n",
              "3        NaN            NaN                     NaN                 NaN   \n",
              "4        NaN            NaN                     NaN                 NaN   \n",
              "\n",
              "  Seller Order NO  Fulfillment Entity  Replacement Order  \\\n",
              "0    2.000113e+14     SellerFulfilled                 No   \n",
              "1    2.000113e+14     SellerFulfilled                 No   \n",
              "2    2.000115e+14     SellerFulfilled                 No   \n",
              "3    2.000114e+14     SellerFulfilled                 No   \n",
              "4    2.000113e+14     SellerFulfilled                 No   \n",
              "\n",
              "  Original Customer Order Id Customer Intent To Cancel  \\\n",
              "0                        NaN                       NaN   \n",
              "1                        NaN                       NaN   \n",
              "2                        NaN                       NaN   \n",
              "3                        NaN                       NaN   \n",
              "4                        NaN                       NaN   \n",
              "\n",
              "  Intent To Cancel Override  \n",
              "0                       NaN  \n",
              "1                       NaN  \n",
              "2                       NaN  \n",
              "3                       NaN  \n",
              "4                       NaN  \n",
              "\n",
              "[5 rows x 44 columns]"
            ],
            "text/html": [
              "\n",
              "  <div id=\"df-082b857f-68f5-497d-a6af-904fdd3ef1cd\" class=\"colab-df-container\">\n",
              "    <div>\n",
              "<style scoped>\n",
              "    .dataframe tbody tr th:only-of-type {\n",
              "        vertical-align: middle;\n",
              "    }\n",
              "\n",
              "    .dataframe tbody tr th {\n",
              "        vertical-align: top;\n",
              "    }\n",
              "\n",
              "    .dataframe thead th {\n",
              "        text-align: right;\n",
              "    }\n",
              "</style>\n",
              "<table border=\"1\" class=\"dataframe\">\n",
              "  <thead>\n",
              "    <tr style=\"text-align: right;\">\n",
              "      <th></th>\n",
              "      <th>PO#</th>\n",
              "      <th>Order#</th>\n",
              "      <th>Order Date</th>\n",
              "      <th>Ship By</th>\n",
              "      <th>Delivery Date</th>\n",
              "      <th>Customer Name</th>\n",
              "      <th>Customer Shipping Address</th>\n",
              "      <th>Customer Phone Number</th>\n",
              "      <th>Ship to Address 1</th>\n",
              "      <th>Ship to Address 2</th>\n",
              "      <th>...</th>\n",
              "      <th>Update Qty</th>\n",
              "      <th>Update Carrier</th>\n",
              "      <th>Update Tracking Number</th>\n",
              "      <th>Update Tracking Url</th>\n",
              "      <th>Seller Order NO</th>\n",
              "      <th>Fulfillment Entity</th>\n",
              "      <th>Replacement Order</th>\n",
              "      <th>Original Customer Order Id</th>\n",
              "      <th>Customer Intent To Cancel</th>\n",
              "      <th>Intent To Cancel Override</th>\n",
              "    </tr>\n",
              "  </thead>\n",
              "  <tbody>\n",
              "    <tr>\n",
              "      <th>0</th>\n",
              "      <td>108830656837301</td>\n",
              "      <td>200011336950958</td>\n",
              "      <td>2023-10-31</td>\n",
              "      <td>2023-11-01</td>\n",
              "      <td>2023-11-08</td>\n",
              "      <td>Shelley Facchina</td>\n",
              "      <td>Shelley Facchina, 5008 SEAWARD COURT, SOUTHPOR...</td>\n",
              "      <td>7034757670</td>\n",
              "      <td>5008 SEAWARD COURT</td>\n",
              "      <td>NaN</td>\n",
              "      <td>...</td>\n",
              "      <td>NaN</td>\n",
              "      <td>NaN</td>\n",
              "      <td>NaN</td>\n",
              "      <td>NaN</td>\n",
              "      <td>2.000113e+14</td>\n",
              "      <td>SellerFulfilled</td>\n",
              "      <td>No</td>\n",
              "      <td>NaN</td>\n",
              "      <td>NaN</td>\n",
              "      <td>NaN</td>\n",
              "    </tr>\n",
              "    <tr>\n",
              "      <th>1</th>\n",
              "      <td>108830656607327</td>\n",
              "      <td>200011348956033</td>\n",
              "      <td>2023-10-31</td>\n",
              "      <td>2023-11-01</td>\n",
              "      <td>2023-11-08</td>\n",
              "      <td>Jodi Sasadeusz</td>\n",
              "      <td>Jodi Sasadeusz, 4071 Luxor Ln, Roseville, CA 9...</td>\n",
              "      <td>8585315636</td>\n",
              "      <td>4071 Luxor Ln</td>\n",
              "      <td>NaN</td>\n",
              "      <td>...</td>\n",
              "      <td>NaN</td>\n",
              "      <td>NaN</td>\n",
              "      <td>NaN</td>\n",
              "      <td>NaN</td>\n",
              "      <td>2.000113e+14</td>\n",
              "      <td>SellerFulfilled</td>\n",
              "      <td>No</td>\n",
              "      <td>NaN</td>\n",
              "      <td>NaN</td>\n",
              "      <td>NaN</td>\n",
              "    </tr>\n",
              "    <tr>\n",
              "      <th>2</th>\n",
              "      <td>108830554056713</td>\n",
              "      <td>200011522169379</td>\n",
              "      <td>2023-10-31</td>\n",
              "      <td>2023-11-01</td>\n",
              "      <td>2023-11-08</td>\n",
              "      <td>Ryan Spallina</td>\n",
              "      <td>Ryan Spallina, 2118 Roosevelt Ave, Berkeley, C...</td>\n",
              "      <td>5102188880</td>\n",
              "      <td>2118 Roosevelt Ave</td>\n",
              "      <td>NaN</td>\n",
              "      <td>...</td>\n",
              "      <td>NaN</td>\n",
              "      <td>NaN</td>\n",
              "      <td>NaN</td>\n",
              "      <td>NaN</td>\n",
              "      <td>2.000115e+14</td>\n",
              "      <td>SellerFulfilled</td>\n",
              "      <td>No</td>\n",
              "      <td>NaN</td>\n",
              "      <td>NaN</td>\n",
              "      <td>NaN</td>\n",
              "    </tr>\n",
              "    <tr>\n",
              "      <th>3</th>\n",
              "      <td>108830556560621</td>\n",
              "      <td>200011420702608</td>\n",
              "      <td>2023-10-31</td>\n",
              "      <td>2023-11-01</td>\n",
              "      <td>2023-11-08</td>\n",
              "      <td>Richard Agnew</td>\n",
              "      <td>Richard Agnew, 113 Prestwick Ct, Salisbury, NC...</td>\n",
              "      <td>4129994953</td>\n",
              "      <td>113 Prestwick Ct</td>\n",
              "      <td>NaN</td>\n",
              "      <td>...</td>\n",
              "      <td>NaN</td>\n",
              "      <td>NaN</td>\n",
              "      <td>NaN</td>\n",
              "      <td>NaN</td>\n",
              "      <td>2.000114e+14</td>\n",
              "      <td>SellerFulfilled</td>\n",
              "      <td>No</td>\n",
              "      <td>NaN</td>\n",
              "      <td>NaN</td>\n",
              "      <td>NaN</td>\n",
              "    </tr>\n",
              "    <tr>\n",
              "      <th>4</th>\n",
              "      <td>108830556343378</td>\n",
              "      <td>200011340108900</td>\n",
              "      <td>2023-10-31</td>\n",
              "      <td>2023-11-01</td>\n",
              "      <td>2023-11-08</td>\n",
              "      <td>Robert Billingsley</td>\n",
              "      <td>Robert Billingsley, 11312 Wesley Chapel Rd., R...</td>\n",
              "      <td>7408493132</td>\n",
              "      <td>11312 Wesley Chapel Rd.</td>\n",
              "      <td>NaN</td>\n",
              "      <td>...</td>\n",
              "      <td>NaN</td>\n",
              "      <td>NaN</td>\n",
              "      <td>NaN</td>\n",
              "      <td>NaN</td>\n",
              "      <td>2.000113e+14</td>\n",
              "      <td>SellerFulfilled</td>\n",
              "      <td>No</td>\n",
              "      <td>NaN</td>\n",
              "      <td>NaN</td>\n",
              "      <td>NaN</td>\n",
              "    </tr>\n",
              "  </tbody>\n",
              "</table>\n",
              "<p>5 rows × 44 columns</p>\n",
              "</div>\n",
              "    <div class=\"colab-df-buttons\">\n",
              "\n",
              "  <div class=\"colab-df-container\">\n",
              "    <button class=\"colab-df-convert\" onclick=\"convertToInteractive('df-082b857f-68f5-497d-a6af-904fdd3ef1cd')\"\n",
              "            title=\"Convert this dataframe to an interactive table.\"\n",
              "            style=\"display:none;\">\n",
              "\n",
              "  <svg xmlns=\"http://www.w3.org/2000/svg\" height=\"24px\" viewBox=\"0 -960 960 960\">\n",
              "    <path d=\"M120-120v-720h720v720H120Zm60-500h600v-160H180v160Zm220 220h160v-160H400v160Zm0 220h160v-160H400v160ZM180-400h160v-160H180v160Zm440 0h160v-160H620v160ZM180-180h160v-160H180v160Zm440 0h160v-160H620v160Z\"/>\n",
              "  </svg>\n",
              "    </button>\n",
              "\n",
              "  <style>\n",
              "    .colab-df-container {\n",
              "      display:flex;\n",
              "      gap: 12px;\n",
              "    }\n",
              "\n",
              "    .colab-df-convert {\n",
              "      background-color: #E8F0FE;\n",
              "      border: none;\n",
              "      border-radius: 50%;\n",
              "      cursor: pointer;\n",
              "      display: none;\n",
              "      fill: #1967D2;\n",
              "      height: 32px;\n",
              "      padding: 0 0 0 0;\n",
              "      width: 32px;\n",
              "    }\n",
              "\n",
              "    .colab-df-convert:hover {\n",
              "      background-color: #E2EBFA;\n",
              "      box-shadow: 0px 1px 2px rgba(60, 64, 67, 0.3), 0px 1px 3px 1px rgba(60, 64, 67, 0.15);\n",
              "      fill: #174EA6;\n",
              "    }\n",
              "\n",
              "    .colab-df-buttons div {\n",
              "      margin-bottom: 4px;\n",
              "    }\n",
              "\n",
              "    [theme=dark] .colab-df-convert {\n",
              "      background-color: #3B4455;\n",
              "      fill: #D2E3FC;\n",
              "    }\n",
              "\n",
              "    [theme=dark] .colab-df-convert:hover {\n",
              "      background-color: #434B5C;\n",
              "      box-shadow: 0px 1px 3px 1px rgba(0, 0, 0, 0.15);\n",
              "      filter: drop-shadow(0px 1px 2px rgba(0, 0, 0, 0.3));\n",
              "      fill: #FFFFFF;\n",
              "    }\n",
              "  </style>\n",
              "\n",
              "    <script>\n",
              "      const buttonEl =\n",
              "        document.querySelector('#df-082b857f-68f5-497d-a6af-904fdd3ef1cd button.colab-df-convert');\n",
              "      buttonEl.style.display =\n",
              "        google.colab.kernel.accessAllowed ? 'block' : 'none';\n",
              "\n",
              "      async function convertToInteractive(key) {\n",
              "        const element = document.querySelector('#df-082b857f-68f5-497d-a6af-904fdd3ef1cd');\n",
              "        const dataTable =\n",
              "          await google.colab.kernel.invokeFunction('convertToInteractive',\n",
              "                                                    [key], {});\n",
              "        if (!dataTable) return;\n",
              "\n",
              "        const docLinkHtml = 'Like what you see? Visit the ' +\n",
              "          '<a target=\"_blank\" href=https://colab.research.google.com/notebooks/data_table.ipynb>data table notebook</a>'\n",
              "          + ' to learn more about interactive tables.';\n",
              "        element.innerHTML = '';\n",
              "        dataTable['output_type'] = 'display_data';\n",
              "        await google.colab.output.renderOutput(dataTable, element);\n",
              "        const docLink = document.createElement('div');\n",
              "        docLink.innerHTML = docLinkHtml;\n",
              "        element.appendChild(docLink);\n",
              "      }\n",
              "    </script>\n",
              "  </div>\n",
              "\n",
              "\n",
              "<div id=\"df-c6c5b241-c251-4ab6-a02f-88161d0e111c\">\n",
              "  <button class=\"colab-df-quickchart\" onclick=\"quickchart('df-c6c5b241-c251-4ab6-a02f-88161d0e111c')\"\n",
              "            title=\"Suggest charts\"\n",
              "            style=\"display:none;\">\n",
              "\n",
              "<svg xmlns=\"http://www.w3.org/2000/svg\" height=\"24px\"viewBox=\"0 0 24 24\"\n",
              "     width=\"24px\">\n",
              "    <g>\n",
              "        <path d=\"M19 3H5c-1.1 0-2 .9-2 2v14c0 1.1.9 2 2 2h14c1.1 0 2-.9 2-2V5c0-1.1-.9-2-2-2zM9 17H7v-7h2v7zm4 0h-2V7h2v10zm4 0h-2v-4h2v4z\"/>\n",
              "    </g>\n",
              "</svg>\n",
              "  </button>\n",
              "\n",
              "<style>\n",
              "  .colab-df-quickchart {\n",
              "      --bg-color: #E8F0FE;\n",
              "      --fill-color: #1967D2;\n",
              "      --hover-bg-color: #E2EBFA;\n",
              "      --hover-fill-color: #174EA6;\n",
              "      --disabled-fill-color: #AAA;\n",
              "      --disabled-bg-color: #DDD;\n",
              "  }\n",
              "\n",
              "  [theme=dark] .colab-df-quickchart {\n",
              "      --bg-color: #3B4455;\n",
              "      --fill-color: #D2E3FC;\n",
              "      --hover-bg-color: #434B5C;\n",
              "      --hover-fill-color: #FFFFFF;\n",
              "      --disabled-bg-color: #3B4455;\n",
              "      --disabled-fill-color: #666;\n",
              "  }\n",
              "\n",
              "  .colab-df-quickchart {\n",
              "    background-color: var(--bg-color);\n",
              "    border: none;\n",
              "    border-radius: 50%;\n",
              "    cursor: pointer;\n",
              "    display: none;\n",
              "    fill: var(--fill-color);\n",
              "    height: 32px;\n",
              "    padding: 0;\n",
              "    width: 32px;\n",
              "  }\n",
              "\n",
              "  .colab-df-quickchart:hover {\n",
              "    background-color: var(--hover-bg-color);\n",
              "    box-shadow: 0 1px 2px rgba(60, 64, 67, 0.3), 0 1px 3px 1px rgba(60, 64, 67, 0.15);\n",
              "    fill: var(--button-hover-fill-color);\n",
              "  }\n",
              "\n",
              "  .colab-df-quickchart-complete:disabled,\n",
              "  .colab-df-quickchart-complete:disabled:hover {\n",
              "    background-color: var(--disabled-bg-color);\n",
              "    fill: var(--disabled-fill-color);\n",
              "    box-shadow: none;\n",
              "  }\n",
              "\n",
              "  .colab-df-spinner {\n",
              "    border: 2px solid var(--fill-color);\n",
              "    border-color: transparent;\n",
              "    border-bottom-color: var(--fill-color);\n",
              "    animation:\n",
              "      spin 1s steps(1) infinite;\n",
              "  }\n",
              "\n",
              "  @keyframes spin {\n",
              "    0% {\n",
              "      border-color: transparent;\n",
              "      border-bottom-color: var(--fill-color);\n",
              "      border-left-color: var(--fill-color);\n",
              "    }\n",
              "    20% {\n",
              "      border-color: transparent;\n",
              "      border-left-color: var(--fill-color);\n",
              "      border-top-color: var(--fill-color);\n",
              "    }\n",
              "    30% {\n",
              "      border-color: transparent;\n",
              "      border-left-color: var(--fill-color);\n",
              "      border-top-color: var(--fill-color);\n",
              "      border-right-color: var(--fill-color);\n",
              "    }\n",
              "    40% {\n",
              "      border-color: transparent;\n",
              "      border-right-color: var(--fill-color);\n",
              "      border-top-color: var(--fill-color);\n",
              "    }\n",
              "    60% {\n",
              "      border-color: transparent;\n",
              "      border-right-color: var(--fill-color);\n",
              "    }\n",
              "    80% {\n",
              "      border-color: transparent;\n",
              "      border-right-color: var(--fill-color);\n",
              "      border-bottom-color: var(--fill-color);\n",
              "    }\n",
              "    90% {\n",
              "      border-color: transparent;\n",
              "      border-bottom-color: var(--fill-color);\n",
              "    }\n",
              "  }\n",
              "</style>\n",
              "\n",
              "  <script>\n",
              "    async function quickchart(key) {\n",
              "      const quickchartButtonEl =\n",
              "        document.querySelector('#' + key + ' button');\n",
              "      quickchartButtonEl.disabled = true;  // To prevent multiple clicks.\n",
              "      quickchartButtonEl.classList.add('colab-df-spinner');\n",
              "      try {\n",
              "        const charts = await google.colab.kernel.invokeFunction(\n",
              "            'suggestCharts', [key], {});\n",
              "      } catch (error) {\n",
              "        console.error('Error during call to suggestCharts:', error);\n",
              "      }\n",
              "      quickchartButtonEl.classList.remove('colab-df-spinner');\n",
              "      quickchartButtonEl.classList.add('colab-df-quickchart-complete');\n",
              "    }\n",
              "    (() => {\n",
              "      let quickchartButtonEl =\n",
              "        document.querySelector('#df-c6c5b241-c251-4ab6-a02f-88161d0e111c button');\n",
              "      quickchartButtonEl.style.display =\n",
              "        google.colab.kernel.accessAllowed ? 'block' : 'none';\n",
              "    })();\n",
              "  </script>\n",
              "</div>\n",
              "\n",
              "    </div>\n",
              "  </div>\n"
            ],
            "application/vnd.google.colaboratory.intrinsic+json": {
              "type": "dataframe",
              "variable_name": "df_con"
            }
          },
          "metadata": {},
          "execution_count": 14
        }
      ]
    },
    {
      "cell_type": "code",
      "source": [
        "df_con.isnull().sum()"
      ],
      "metadata": {
        "colab": {
          "base_uri": "https://localhost:8080/"
        },
        "id": "IaVwaBxtIzQo",
        "outputId": "f95adec5-4593-4481-8cdd-02b3c5ec805b"
      },
      "execution_count": 15,
      "outputs": [
        {
          "output_type": "execute_result",
          "data": {
            "text/plain": [
              "PO#                              0\n",
              "Order#                           0\n",
              "Order Date                       0\n",
              "Ship By                          0\n",
              "Delivery Date                    0\n",
              "Customer Name                    0\n",
              "Customer Shipping Address        0\n",
              "Customer Phone Number            0\n",
              "Ship to Address 1                0\n",
              "Ship to Address 2             7106\n",
              "City                             0\n",
              "State                            0\n",
              "Zip                              0\n",
              "Segment                          0\n",
              "FLIDs                            0\n",
              "Line#                            0\n",
              "UPC                           2683\n",
              "Status                           0\n",
              "Item Description                 0\n",
              "Shipping Method                  0\n",
              "Shipping Tier                    0\n",
              "Shipping SLA                     0\n",
              "Shipping Config Source           0\n",
              "Qty                              0\n",
              "SKU                              0\n",
              "Condition                     6795\n",
              "Item Cost                        0\n",
              "Discount                         0\n",
              "Shipping Cost                    0\n",
              "Tax                              0\n",
              "Carrier                        106\n",
              "Tracking Number                106\n",
              "Tracking Url                   106\n",
              "Update Status                 8465\n",
              "Update Qty                    8465\n",
              "Update Carrier                8465\n",
              "Update Tracking Number        8465\n",
              "Update Tracking Url           8465\n",
              "Seller Order NO                106\n",
              "Fulfillment Entity               0\n",
              "Replacement Order                0\n",
              "Original Customer Order Id    8465\n",
              "Customer Intent To Cancel     8321\n",
              "Intent To Cancel Override     8465\n",
              "dtype: int64"
            ]
          },
          "metadata": {},
          "execution_count": 15
        }
      ]
    },
    {
      "cell_type": "code",
      "source": [
        "df_con['Condition'].unique()"
      ],
      "metadata": {
        "colab": {
          "base_uri": "https://localhost:8080/"
        },
        "id": "ORSi_XqoI5a4",
        "outputId": "edbc55fb-7bb6-41a1-d4da-a11a09230219"
      },
      "execution_count": 16,
      "outputs": [
        {
          "output_type": "execute_result",
          "data": {
            "text/plain": [
              "array([nan, 'New'], dtype=object)"
            ]
          },
          "metadata": {},
          "execution_count": 16
        }
      ]
    },
    {
      "cell_type": "code",
      "source": [
        "df_con['Customer Name'].unique()"
      ],
      "metadata": {
        "colab": {
          "base_uri": "https://localhost:8080/"
        },
        "id": "yh6Stw8mJW2h",
        "outputId": "b701a231-0593-4e85-f5fc-c7d2ec8be004"
      },
      "execution_count": 17,
      "outputs": [
        {
          "output_type": "execute_result",
          "data": {
            "text/plain": [
              "array(['Shelley Facchina', 'Jodi Sasadeusz', 'Ryan Spallina', ...,\n",
              "       'crystal skabo', 'Jammie Rowe', 'Angela volner'], dtype=object)"
            ]
          },
          "metadata": {},
          "execution_count": 17
        }
      ]
    },
    {
      "cell_type": "code",
      "source": [
        "len(df_con['Customer Name'].unique())"
      ],
      "metadata": {
        "colab": {
          "base_uri": "https://localhost:8080/"
        },
        "id": "NzDQRLsqJ5TA",
        "outputId": "de09a7c8-39b6-4cb1-e552-c9b6498cbb36"
      },
      "execution_count": 18,
      "outputs": [
        {
          "output_type": "execute_result",
          "data": {
            "text/plain": [
              "8027"
            ]
          },
          "metadata": {},
          "execution_count": 18
        }
      ]
    },
    {
      "cell_type": "code",
      "source": [
        "df_con['Customer Name'].value_counts().head(100)"
      ],
      "metadata": {
        "colab": {
          "base_uri": "https://localhost:8080/"
        },
        "id": "6CA3cgcMLG4x",
        "outputId": "d0ab9c47-7368-4e42-df24-04ea1824a86f"
      },
      "execution_count": 19,
      "outputs": [
        {
          "output_type": "execute_result",
          "data": {
            "text/plain": [
              "Don Anderson         7\n",
              "Isabella Ruiz        5\n",
              "maria howard         5\n",
              "Atisha Edwards       5\n",
              "Tony Werneke         4\n",
              "                    ..\n",
              "Rabiah Hamze         2\n",
              "Maria Cinquemani     2\n",
              "Geraldine Bulkley    2\n",
              "Resmi Sulekha        2\n",
              "Mark Hubbard         2\n",
              "Name: Customer Name, Length: 100, dtype: int64"
            ]
          },
          "metadata": {},
          "execution_count": 19
        }
      ]
    },
    {
      "cell_type": "code",
      "source": [
        "df_con_dropped=df_con.drop(columns=['Update Status', 'Update Qty', 'Update Carrier',\n",
        "       'Update Tracking Number', 'Update Tracking Url', 'Original Customer Order Id', 'Intent To Cancel Override'])\n",
        "df_con_dropped.shape"
      ],
      "metadata": {
        "id": "MdBQ0_cHLSTw",
        "colab": {
          "base_uri": "https://localhost:8080/"
        },
        "outputId": "91502da5-0692-4a86-e0e9-120bf6b23682"
      },
      "execution_count": 20,
      "outputs": [
        {
          "output_type": "execute_result",
          "data": {
            "text/plain": [
              "(8465, 37)"
            ]
          },
          "metadata": {},
          "execution_count": 20
        }
      ]
    },
    {
      "cell_type": "code",
      "source": [
        "df_con_dropped.columns"
      ],
      "metadata": {
        "colab": {
          "base_uri": "https://localhost:8080/"
        },
        "id": "ADwmiFhPNYNh",
        "outputId": "8274d35a-a490-4bb4-f340-8b027ffbb60e"
      },
      "execution_count": 21,
      "outputs": [
        {
          "output_type": "execute_result",
          "data": {
            "text/plain": [
              "Index(['PO#', 'Order#', 'Order Date', 'Ship By', 'Delivery Date',\n",
              "       'Customer Name', 'Customer Shipping Address', 'Customer Phone Number',\n",
              "       'Ship to Address 1', 'Ship to Address 2', 'City', 'State', 'Zip',\n",
              "       'Segment', 'FLIDs', 'Line#', 'UPC', 'Status', 'Item Description',\n",
              "       'Shipping Method', 'Shipping Tier', 'Shipping SLA',\n",
              "       'Shipping Config Source', 'Qty', 'SKU', 'Condition', 'Item Cost',\n",
              "       'Discount', 'Shipping Cost', 'Tax', 'Carrier', 'Tracking Number',\n",
              "       'Tracking Url', 'Seller Order NO', 'Fulfillment Entity',\n",
              "       'Replacement Order', 'Customer Intent To Cancel'],\n",
              "      dtype='object')"
            ]
          },
          "metadata": {},
          "execution_count": 21
        }
      ]
    },
    {
      "cell_type": "code",
      "source": [
        "df_con_dropped.isnull().sum()"
      ],
      "metadata": {
        "colab": {
          "base_uri": "https://localhost:8080/"
        },
        "id": "tpmzq2k3OE9R",
        "outputId": "ee4fc5aa-f07c-49e6-d7cd-472b9f47a699"
      },
      "execution_count": 22,
      "outputs": [
        {
          "output_type": "execute_result",
          "data": {
            "text/plain": [
              "PO#                             0\n",
              "Order#                          0\n",
              "Order Date                      0\n",
              "Ship By                         0\n",
              "Delivery Date                   0\n",
              "Customer Name                   0\n",
              "Customer Shipping Address       0\n",
              "Customer Phone Number           0\n",
              "Ship to Address 1               0\n",
              "Ship to Address 2            7106\n",
              "City                            0\n",
              "State                           0\n",
              "Zip                             0\n",
              "Segment                         0\n",
              "FLIDs                           0\n",
              "Line#                           0\n",
              "UPC                          2683\n",
              "Status                          0\n",
              "Item Description                0\n",
              "Shipping Method                 0\n",
              "Shipping Tier                   0\n",
              "Shipping SLA                    0\n",
              "Shipping Config Source          0\n",
              "Qty                             0\n",
              "SKU                             0\n",
              "Condition                    6795\n",
              "Item Cost                       0\n",
              "Discount                        0\n",
              "Shipping Cost                   0\n",
              "Tax                             0\n",
              "Carrier                       106\n",
              "Tracking Number               106\n",
              "Tracking Url                  106\n",
              "Seller Order NO               106\n",
              "Fulfillment Entity              0\n",
              "Replacement Order               0\n",
              "Customer Intent To Cancel    8321\n",
              "dtype: int64"
            ]
          },
          "metadata": {},
          "execution_count": 22
        }
      ]
    },
    {
      "cell_type": "code",
      "source": [
        "df_con_dropped.sample(3)"
      ],
      "metadata": {
        "colab": {
          "base_uri": "https://localhost:8080/",
          "height": 540
        },
        "id": "y0juMRmUOUqx",
        "outputId": "f6cfdf65-1c97-4cf6-8de9-7fe59d9708a9"
      },
      "execution_count": 23,
      "outputs": [
        {
          "output_type": "execute_result",
          "data": {
            "text/plain": [
              "                  PO#           Order#  Order Date     Ship By Delivery Date  \\\n",
              "129   108905993783371  200011585809717  2024-02-27  2024-02-27    2024-02-29   \n",
              "1586  108903730948171  200011523659000  2024-02-05  2024-02-05    2024-02-06   \n",
              "676   108905272403073  200011488981618  2024-02-19  2024-02-20    2024-02-22   \n",
              "\n",
              "       Customer Name                          Customer Shipping Address  \\\n",
              "129   Robin Mitchell  Robin Mitchell, 8 West 118th Street #15G, New ...   \n",
              "1586     Lisa Bobola  Lisa Bobola, 53 whittier street, newton, NH 03...   \n",
              "676     Susan Beeler  Susan Beeler, 28 Shady Oaks Dr, Folsom, CA 956...   \n",
              "\n",
              "      Customer Phone Number    Ship to Address 1 Ship to Address 2  ...  \\\n",
              "129              3473639809  8 West 118th Street              #15G  ...   \n",
              "1586             6033827202   53 whittier street               NaN  ...   \n",
              "676              9167593623     28 Shady Oaks Dr               NaN  ...   \n",
              "\n",
              "     Discount Shipping Cost   Tax    Carrier  Tracking Number  \\\n",
              "129       0.0           0.0  0.63      Fedex     729833633570   \n",
              "1586      0.0           0.0  0.00  Lasership  1LSCXLN0032VMKZ   \n",
              "676       0.0           0.0  3.02      Fedex     724831007859   \n",
              "\n",
              "                                           Tracking Url  Seller Order NO  \\\n",
              "129   https://www.walmart.com/tracking?tracking_id=7...     2.000116e+14   \n",
              "1586  https://www.walmart.com/tracking?tracking_id=1...     2.000115e+14   \n",
              "676   https://www.walmart.com/tracking?tracking_id=7...     2.000115e+14   \n",
              "\n",
              "     Fulfillment Entity Replacement Order Customer Intent To Cancel  \n",
              "129        WFSFulfilled                No                       NaN  \n",
              "1586       WFSFulfilled                No                       NaN  \n",
              "676        WFSFulfilled                No                       NaN  \n",
              "\n",
              "[3 rows x 37 columns]"
            ],
            "text/html": [
              "\n",
              "  <div id=\"df-6170f648-cf4f-4774-a3cf-90e724386fae\" class=\"colab-df-container\">\n",
              "    <div>\n",
              "<style scoped>\n",
              "    .dataframe tbody tr th:only-of-type {\n",
              "        vertical-align: middle;\n",
              "    }\n",
              "\n",
              "    .dataframe tbody tr th {\n",
              "        vertical-align: top;\n",
              "    }\n",
              "\n",
              "    .dataframe thead th {\n",
              "        text-align: right;\n",
              "    }\n",
              "</style>\n",
              "<table border=\"1\" class=\"dataframe\">\n",
              "  <thead>\n",
              "    <tr style=\"text-align: right;\">\n",
              "      <th></th>\n",
              "      <th>PO#</th>\n",
              "      <th>Order#</th>\n",
              "      <th>Order Date</th>\n",
              "      <th>Ship By</th>\n",
              "      <th>Delivery Date</th>\n",
              "      <th>Customer Name</th>\n",
              "      <th>Customer Shipping Address</th>\n",
              "      <th>Customer Phone Number</th>\n",
              "      <th>Ship to Address 1</th>\n",
              "      <th>Ship to Address 2</th>\n",
              "      <th>...</th>\n",
              "      <th>Discount</th>\n",
              "      <th>Shipping Cost</th>\n",
              "      <th>Tax</th>\n",
              "      <th>Carrier</th>\n",
              "      <th>Tracking Number</th>\n",
              "      <th>Tracking Url</th>\n",
              "      <th>Seller Order NO</th>\n",
              "      <th>Fulfillment Entity</th>\n",
              "      <th>Replacement Order</th>\n",
              "      <th>Customer Intent To Cancel</th>\n",
              "    </tr>\n",
              "  </thead>\n",
              "  <tbody>\n",
              "    <tr>\n",
              "      <th>129</th>\n",
              "      <td>108905993783371</td>\n",
              "      <td>200011585809717</td>\n",
              "      <td>2024-02-27</td>\n",
              "      <td>2024-02-27</td>\n",
              "      <td>2024-02-29</td>\n",
              "      <td>Robin Mitchell</td>\n",
              "      <td>Robin Mitchell, 8 West 118th Street #15G, New ...</td>\n",
              "      <td>3473639809</td>\n",
              "      <td>8 West 118th Street</td>\n",
              "      <td>#15G</td>\n",
              "      <td>...</td>\n",
              "      <td>0.0</td>\n",
              "      <td>0.0</td>\n",
              "      <td>0.63</td>\n",
              "      <td>Fedex</td>\n",
              "      <td>729833633570</td>\n",
              "      <td>https://www.walmart.com/tracking?tracking_id=7...</td>\n",
              "      <td>2.000116e+14</td>\n",
              "      <td>WFSFulfilled</td>\n",
              "      <td>No</td>\n",
              "      <td>NaN</td>\n",
              "    </tr>\n",
              "    <tr>\n",
              "      <th>1586</th>\n",
              "      <td>108903730948171</td>\n",
              "      <td>200011523659000</td>\n",
              "      <td>2024-02-05</td>\n",
              "      <td>2024-02-05</td>\n",
              "      <td>2024-02-06</td>\n",
              "      <td>Lisa Bobola</td>\n",
              "      <td>Lisa Bobola, 53 whittier street, newton, NH 03...</td>\n",
              "      <td>6033827202</td>\n",
              "      <td>53 whittier street</td>\n",
              "      <td>NaN</td>\n",
              "      <td>...</td>\n",
              "      <td>0.0</td>\n",
              "      <td>0.0</td>\n",
              "      <td>0.00</td>\n",
              "      <td>Lasership</td>\n",
              "      <td>1LSCXLN0032VMKZ</td>\n",
              "      <td>https://www.walmart.com/tracking?tracking_id=1...</td>\n",
              "      <td>2.000115e+14</td>\n",
              "      <td>WFSFulfilled</td>\n",
              "      <td>No</td>\n",
              "      <td>NaN</td>\n",
              "    </tr>\n",
              "    <tr>\n",
              "      <th>676</th>\n",
              "      <td>108905272403073</td>\n",
              "      <td>200011488981618</td>\n",
              "      <td>2024-02-19</td>\n",
              "      <td>2024-02-20</td>\n",
              "      <td>2024-02-22</td>\n",
              "      <td>Susan Beeler</td>\n",
              "      <td>Susan Beeler, 28 Shady Oaks Dr, Folsom, CA 956...</td>\n",
              "      <td>9167593623</td>\n",
              "      <td>28 Shady Oaks Dr</td>\n",
              "      <td>NaN</td>\n",
              "      <td>...</td>\n",
              "      <td>0.0</td>\n",
              "      <td>0.0</td>\n",
              "      <td>3.02</td>\n",
              "      <td>Fedex</td>\n",
              "      <td>724831007859</td>\n",
              "      <td>https://www.walmart.com/tracking?tracking_id=7...</td>\n",
              "      <td>2.000115e+14</td>\n",
              "      <td>WFSFulfilled</td>\n",
              "      <td>No</td>\n",
              "      <td>NaN</td>\n",
              "    </tr>\n",
              "  </tbody>\n",
              "</table>\n",
              "<p>3 rows × 37 columns</p>\n",
              "</div>\n",
              "    <div class=\"colab-df-buttons\">\n",
              "\n",
              "  <div class=\"colab-df-container\">\n",
              "    <button class=\"colab-df-convert\" onclick=\"convertToInteractive('df-6170f648-cf4f-4774-a3cf-90e724386fae')\"\n",
              "            title=\"Convert this dataframe to an interactive table.\"\n",
              "            style=\"display:none;\">\n",
              "\n",
              "  <svg xmlns=\"http://www.w3.org/2000/svg\" height=\"24px\" viewBox=\"0 -960 960 960\">\n",
              "    <path d=\"M120-120v-720h720v720H120Zm60-500h600v-160H180v160Zm220 220h160v-160H400v160Zm0 220h160v-160H400v160ZM180-400h160v-160H180v160Zm440 0h160v-160H620v160ZM180-180h160v-160H180v160Zm440 0h160v-160H620v160Z\"/>\n",
              "  </svg>\n",
              "    </button>\n",
              "\n",
              "  <style>\n",
              "    .colab-df-container {\n",
              "      display:flex;\n",
              "      gap: 12px;\n",
              "    }\n",
              "\n",
              "    .colab-df-convert {\n",
              "      background-color: #E8F0FE;\n",
              "      border: none;\n",
              "      border-radius: 50%;\n",
              "      cursor: pointer;\n",
              "      display: none;\n",
              "      fill: #1967D2;\n",
              "      height: 32px;\n",
              "      padding: 0 0 0 0;\n",
              "      width: 32px;\n",
              "    }\n",
              "\n",
              "    .colab-df-convert:hover {\n",
              "      background-color: #E2EBFA;\n",
              "      box-shadow: 0px 1px 2px rgba(60, 64, 67, 0.3), 0px 1px 3px 1px rgba(60, 64, 67, 0.15);\n",
              "      fill: #174EA6;\n",
              "    }\n",
              "\n",
              "    .colab-df-buttons div {\n",
              "      margin-bottom: 4px;\n",
              "    }\n",
              "\n",
              "    [theme=dark] .colab-df-convert {\n",
              "      background-color: #3B4455;\n",
              "      fill: #D2E3FC;\n",
              "    }\n",
              "\n",
              "    [theme=dark] .colab-df-convert:hover {\n",
              "      background-color: #434B5C;\n",
              "      box-shadow: 0px 1px 3px 1px rgba(0, 0, 0, 0.15);\n",
              "      filter: drop-shadow(0px 1px 2px rgba(0, 0, 0, 0.3));\n",
              "      fill: #FFFFFF;\n",
              "    }\n",
              "  </style>\n",
              "\n",
              "    <script>\n",
              "      const buttonEl =\n",
              "        document.querySelector('#df-6170f648-cf4f-4774-a3cf-90e724386fae button.colab-df-convert');\n",
              "      buttonEl.style.display =\n",
              "        google.colab.kernel.accessAllowed ? 'block' : 'none';\n",
              "\n",
              "      async function convertToInteractive(key) {\n",
              "        const element = document.querySelector('#df-6170f648-cf4f-4774-a3cf-90e724386fae');\n",
              "        const dataTable =\n",
              "          await google.colab.kernel.invokeFunction('convertToInteractive',\n",
              "                                                    [key], {});\n",
              "        if (!dataTable) return;\n",
              "\n",
              "        const docLinkHtml = 'Like what you see? Visit the ' +\n",
              "          '<a target=\"_blank\" href=https://colab.research.google.com/notebooks/data_table.ipynb>data table notebook</a>'\n",
              "          + ' to learn more about interactive tables.';\n",
              "        element.innerHTML = '';\n",
              "        dataTable['output_type'] = 'display_data';\n",
              "        await google.colab.output.renderOutput(dataTable, element);\n",
              "        const docLink = document.createElement('div');\n",
              "        docLink.innerHTML = docLinkHtml;\n",
              "        element.appendChild(docLink);\n",
              "      }\n",
              "    </script>\n",
              "  </div>\n",
              "\n",
              "\n",
              "<div id=\"df-71201da6-dba2-44ec-9b89-bb8b3a545446\">\n",
              "  <button class=\"colab-df-quickchart\" onclick=\"quickchart('df-71201da6-dba2-44ec-9b89-bb8b3a545446')\"\n",
              "            title=\"Suggest charts\"\n",
              "            style=\"display:none;\">\n",
              "\n",
              "<svg xmlns=\"http://www.w3.org/2000/svg\" height=\"24px\"viewBox=\"0 0 24 24\"\n",
              "     width=\"24px\">\n",
              "    <g>\n",
              "        <path d=\"M19 3H5c-1.1 0-2 .9-2 2v14c0 1.1.9 2 2 2h14c1.1 0 2-.9 2-2V5c0-1.1-.9-2-2-2zM9 17H7v-7h2v7zm4 0h-2V7h2v10zm4 0h-2v-4h2v4z\"/>\n",
              "    </g>\n",
              "</svg>\n",
              "  </button>\n",
              "\n",
              "<style>\n",
              "  .colab-df-quickchart {\n",
              "      --bg-color: #E8F0FE;\n",
              "      --fill-color: #1967D2;\n",
              "      --hover-bg-color: #E2EBFA;\n",
              "      --hover-fill-color: #174EA6;\n",
              "      --disabled-fill-color: #AAA;\n",
              "      --disabled-bg-color: #DDD;\n",
              "  }\n",
              "\n",
              "  [theme=dark] .colab-df-quickchart {\n",
              "      --bg-color: #3B4455;\n",
              "      --fill-color: #D2E3FC;\n",
              "      --hover-bg-color: #434B5C;\n",
              "      --hover-fill-color: #FFFFFF;\n",
              "      --disabled-bg-color: #3B4455;\n",
              "      --disabled-fill-color: #666;\n",
              "  }\n",
              "\n",
              "  .colab-df-quickchart {\n",
              "    background-color: var(--bg-color);\n",
              "    border: none;\n",
              "    border-radius: 50%;\n",
              "    cursor: pointer;\n",
              "    display: none;\n",
              "    fill: var(--fill-color);\n",
              "    height: 32px;\n",
              "    padding: 0;\n",
              "    width: 32px;\n",
              "  }\n",
              "\n",
              "  .colab-df-quickchart:hover {\n",
              "    background-color: var(--hover-bg-color);\n",
              "    box-shadow: 0 1px 2px rgba(60, 64, 67, 0.3), 0 1px 3px 1px rgba(60, 64, 67, 0.15);\n",
              "    fill: var(--button-hover-fill-color);\n",
              "  }\n",
              "\n",
              "  .colab-df-quickchart-complete:disabled,\n",
              "  .colab-df-quickchart-complete:disabled:hover {\n",
              "    background-color: var(--disabled-bg-color);\n",
              "    fill: var(--disabled-fill-color);\n",
              "    box-shadow: none;\n",
              "  }\n",
              "\n",
              "  .colab-df-spinner {\n",
              "    border: 2px solid var(--fill-color);\n",
              "    border-color: transparent;\n",
              "    border-bottom-color: var(--fill-color);\n",
              "    animation:\n",
              "      spin 1s steps(1) infinite;\n",
              "  }\n",
              "\n",
              "  @keyframes spin {\n",
              "    0% {\n",
              "      border-color: transparent;\n",
              "      border-bottom-color: var(--fill-color);\n",
              "      border-left-color: var(--fill-color);\n",
              "    }\n",
              "    20% {\n",
              "      border-color: transparent;\n",
              "      border-left-color: var(--fill-color);\n",
              "      border-top-color: var(--fill-color);\n",
              "    }\n",
              "    30% {\n",
              "      border-color: transparent;\n",
              "      border-left-color: var(--fill-color);\n",
              "      border-top-color: var(--fill-color);\n",
              "      border-right-color: var(--fill-color);\n",
              "    }\n",
              "    40% {\n",
              "      border-color: transparent;\n",
              "      border-right-color: var(--fill-color);\n",
              "      border-top-color: var(--fill-color);\n",
              "    }\n",
              "    60% {\n",
              "      border-color: transparent;\n",
              "      border-right-color: var(--fill-color);\n",
              "    }\n",
              "    80% {\n",
              "      border-color: transparent;\n",
              "      border-right-color: var(--fill-color);\n",
              "      border-bottom-color: var(--fill-color);\n",
              "    }\n",
              "    90% {\n",
              "      border-color: transparent;\n",
              "      border-bottom-color: var(--fill-color);\n",
              "    }\n",
              "  }\n",
              "</style>\n",
              "\n",
              "  <script>\n",
              "    async function quickchart(key) {\n",
              "      const quickchartButtonEl =\n",
              "        document.querySelector('#' + key + ' button');\n",
              "      quickchartButtonEl.disabled = true;  // To prevent multiple clicks.\n",
              "      quickchartButtonEl.classList.add('colab-df-spinner');\n",
              "      try {\n",
              "        const charts = await google.colab.kernel.invokeFunction(\n",
              "            'suggestCharts', [key], {});\n",
              "      } catch (error) {\n",
              "        console.error('Error during call to suggestCharts:', error);\n",
              "      }\n",
              "      quickchartButtonEl.classList.remove('colab-df-spinner');\n",
              "      quickchartButtonEl.classList.add('colab-df-quickchart-complete');\n",
              "    }\n",
              "    (() => {\n",
              "      let quickchartButtonEl =\n",
              "        document.querySelector('#df-71201da6-dba2-44ec-9b89-bb8b3a545446 button');\n",
              "      quickchartButtonEl.style.display =\n",
              "        google.colab.kernel.accessAllowed ? 'block' : 'none';\n",
              "    })();\n",
              "  </script>\n",
              "</div>\n",
              "\n",
              "    </div>\n",
              "  </div>\n"
            ],
            "application/vnd.google.colaboratory.intrinsic+json": {
              "type": "dataframe"
            }
          },
          "metadata": {},
          "execution_count": 23
        }
      ]
    },
    {
      "cell_type": "code",
      "source": [
        "df_walmart=df_con_dropped.to_csv('mr_walmart.csv')"
      ],
      "metadata": {
        "id": "YpmDk_ICO5Ip"
      },
      "execution_count": 24,
      "outputs": []
    },
    {
      "cell_type": "code",
      "source": [],
      "metadata": {
        "id": "R-09kRoWTcrS"
      },
      "execution_count": null,
      "outputs": []
    }
  ]
}